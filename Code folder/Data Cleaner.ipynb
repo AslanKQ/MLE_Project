{
 "cells": [
  {
   "cell_type": "code",
   "execution_count": 2,
   "id": "dfad0fd3-7a99-44f8-ba84-ebc78ca9eca0",
   "metadata": {},
   "outputs": [
    {
     "name": "stdout",
     "output_type": "stream",
     "text": [
      "Data further cleaned and saved to 'further_cleaned_data.mat'.\n"
     ]
    }
   ],
   "source": [
    "import numpy as np\n",
    "import scipy.io\n",
    "\n",
    "data = scipy.io.loadmat('mill.mat')\n",
    "\n",
    "data_array = data['mill']\n",
    "\n",
    "needed_fields = ['run', 'time', 'vib_table', 'vib_spindle', 'AE_table', 'AE_spindle', 'VB']\n",
    "\n",
    "cleaned_data = {field: [] for field in needed_fields}\n",
    "\n",
    "current_case = None\n",
    "last_index_to_keep = -1 \n",
    "\n",
    "for i in range(data_array.shape[1]):  \n",
    "    case_value = data_array['case'][0, i]\n",
    "    \n",
    "    if case_value != current_case or i == data_array.shape[1] - 1:\n",
    "        if current_case is not None:\n",
    "            cleaned_data = {field: cleaned_data[field][:-1] for field in needed_fields}\n",
    "        \n",
    "        current_case = case_value\n",
    "    \n",
    "    if not np.isnan(data_array['VB'][0, i]) and data_array['VB'][0, i] != 0:\n",
    "        for field in needed_fields:\n",
    "            cleaned_data[field].append(data_array[field][0, i])\n",
    "\n",
    "cleaned_data = {field: cleaned_data[field][:-1] for field in needed_fields}\n",
    "\n",
    "for field in cleaned_data:\n",
    "    cleaned_data[field] = np.array(cleaned_data[field])\n",
    "\n",
    "scipy.io.savemat('further_cleaned_data.mat', cleaned_data)\n",
    "\n",
    "print(\"Data further cleaned and saved to 'further_cleaned_data.mat'.\")\n"
   ]
  },
  {
   "cell_type": "code",
   "execution_count": 2,
   "id": "52f47b41-00a9-4d13-8bb7-5dc4b2bcd3b9",
   "metadata": {},
   "outputs": [],
   "source": [
    "import numpy as np\n",
    "import scipy.io\n",
    "from scipy.io import loadmat\n",
    "\n",
    "# Load the .mat file\n",
    "data_path = 'further_cleaned_data.mat'\n",
    "data = loadmat(data_path)\n",
    "\n",
    "\n",
    "# 提取第110行的数据\n",
    "row_110_data = {key: data[key][20, :] for key in data if key not in ['__header__', '__version__', '__globals__']}\n",
    "\n",
    "# 保存这些数据为新的.mat文件\n",
    "output_path = 'row_20_data.mat'\n",
    "scipy.io.savemat(output_path, row_110_data)\n",
    "\n",
    "output_path\n",
    "scipy.io.savemat(output_path, row_110_data)\n"
   ]
  },
  {
   "cell_type": "code",
   "execution_count": null,
   "id": "f90e4083-3ff8-4fc4-89b0-d41a0787abb1",
   "metadata": {},
   "outputs": [],
   "source": []
  }
 ],
 "metadata": {
  "kernelspec": {
   "display_name": "Python 3 (ipykernel)",
   "language": "python",
   "name": "python3"
  },
  "language_info": {
   "codemirror_mode": {
    "name": "ipython",
    "version": 3
   },
   "file_extension": ".py",
   "mimetype": "text/x-python",
   "name": "python",
   "nbconvert_exporter": "python",
   "pygments_lexer": "ipython3",
   "version": "3.9.19"
  }
 },
 "nbformat": 4,
 "nbformat_minor": 5
}
